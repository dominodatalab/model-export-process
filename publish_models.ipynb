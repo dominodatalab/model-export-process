{
 "cells": [
  {
   "cell_type": "markdown",
   "id": "e9329fb8-dae9-4b40-8783-a7527c4413d5",
   "metadata": {},
   "source": [
    "## Get Model Version"
   ]
  },
  {
   "cell_type": "code",
   "execution_count": 1,
   "id": "4bcae95d-9442-4225-859c-6d1240243093",
   "metadata": {},
   "outputs": [],
   "source": [
    "import os\n",
    "os.environ['REGISTRY_URL']='xxx-xx-registry.palantirfoundry.com'\n",
    "os.environ['REGISTRY_USER']='<REGISTRY_USER>'\n",
    "os.environ['REGISTRY_TOKEN']='REGISTRY_TOKEN'"
   ]
  },
  {
   "cell_type": "code",
   "execution_count": null,
   "id": "160cea30-a99f-42e0-882d-9993d9f693b7",
   "metadata": {},
   "outputs": [],
   "source": [
    "import requests\n",
    "import json\n",
    "import mlflow\n",
    "from mlflow.client import MlflowClient\n",
    "\n",
    "client = MlflowClient()\n",
    "model_name=\"pltr_foundry_model\"\n",
    "model_version=\"19\"\n",
    "mv = client.get_model_version(model_name, model_version)\n",
    "print(mv)"
   ]
  },
  {
   "cell_type": "markdown",
   "id": "805adbad-13b9-48be-a23a-5935a2e2fb97",
   "metadata": {},
   "source": [
    "## Publish Model Version To Foundry\n",
    "\n",
    "**Update the environment variables with your values**"
   ]
  },
  {
   "cell_type": "markdown",
   "id": "f3b29aae-e201-483c-bc78-2a2d2989db76",
   "metadata": {},
   "source": [
    "import os\n",
    "os.environ['REGISTRY_URL']='xxx-xx-registry.palantirfoundry.com'\n",
    "os.environ['REGISTRY_USER']='<REGISTRY_USER>'\n",
    "os.environ['REGISTRY_TOKEN']='REGISTRY_TOKEN'"
   ]
  },
  {
   "cell_type": "code",
   "execution_count": null,
   "id": "d98bcae4-f887-435f-ba11-c567f1fcbf41",
   "metadata": {},
   "outputs": [],
   "source": [
    "MLFLOW_TRACKING_URI='https://secureds53799.cs.domino.tech/'\n",
    "BUILD_URL = \"https://34.218.240.146:8443/build\"\n",
    "\n",
    "payload = json.dumps({\n",
    "  \"model_name\": model_name,\n",
    "  \"model_version\": model_version\n",
    "})\n",
    "headers = {\n",
    "  'MLFLOW_TRACKING_URI': MLFLOW_TRACKING_URI,\n",
    "  'DOMINO_USER_API_KEY': os.environ['DOMINO_USER_API_KEY'],\n",
    "  'DOMINO_RUN_ID': os.environ['DOMINO_RUN_ID'],\n",
    "  'REGISTRY_URL': os.environ['REGISTRY_URL'],\n",
    "  'REGISTRY_USER': os.environ['REGISTRY_USER'],\n",
    "  'REGISTRY_TOKEN': os.environ['REGISTRY_TOKEN'],\n",
    "  'Content-Type': 'application/json'\n",
    "}\n",
    "\n",
    "response = requests.request(\"POST\", url, headers=headers, data=payload,verify=False)\n",
    "\n",
    "print(response.text)\n"
   ]
  }
 ],
 "metadata": {
  "kernelspec": {
   "display_name": "Python 3 (ipykernel)",
   "language": "python",
   "name": "python3"
  },
  "language_info": {
   "codemirror_mode": {
    "name": "ipython",
    "version": 3
   },
   "file_extension": ".py",
   "mimetype": "text/x-python",
   "name": "python",
   "nbconvert_exporter": "python",
   "pygments_lexer": "ipython3",
   "version": "3.10.14"
  }
 },
 "nbformat": 4,
 "nbformat_minor": 5
}
